{
  "cells": [
    {
      "cell_type": "markdown",
      "metadata": {
        "id": "G_8Kl0ECyq1w"
      },
      "source": [
        "# Importing Neccessary Libraries and reading dataset.\n",
        "\n",
        "---\n",
        "\n"
      ]
    },
    {
      "cell_type": "code",
      "execution_count": null,
      "metadata": {
        "_cell_guid": "b1076dfc-b9ad-4769-8c92-a6c4dae69d19",
        "_uuid": "8f2839f25d086af736a60e9eeb907d3b93b6e0e5",
        "execution": {
          "iopub.execute_input": "2022-04-14T04:17:22.607513Z",
          "iopub.status.busy": "2022-04-14T04:17:22.607045Z",
          "iopub.status.idle": "2022-04-14T04:17:22.614843Z",
          "shell.execute_reply": "2022-04-14T04:17:22.613937Z",
          "shell.execute_reply.started": "2022-04-14T04:17:22.607461Z"
        },
        "id": "gnmgVIpXyq14"
      },
      "outputs": [],
      "source": [
        "import warnings\n",
        "warnings.filterwarnings('ignore')\n",
        "import pandas as pd\n",
        "import numpy as np\n",
        "import seaborn as sns\n",
        "import matplotlib.pyplot as plt\n",
        "\n",
        "sns.set()"
      ]
    },
    {
      "cell_type": "code",
      "source": [
        "data = pd.read_csv('/content/data.csv')\n",
        "data.head(70)"
      ],
      "metadata": {
        "colab": {
          "base_uri": "https://localhost:8080/",
          "height": 386
        },
        "id": "zDH8dY-5FW1w",
        "outputId": "ceb94313-c8ab-49e0-c698-0abf0feba4db"
      },
      "execution_count": 22,
      "outputs": [
        {
          "output_type": "execute_result",
          "data": {
            "text/plain": [
              "   Bankrupt?   ROA(C) before interest and depreciation before interest  \\\n",
              "0          1                                           0.370594          \n",
              "1          1                                           0.464291          \n",
              "2          1                                           0.426071          \n",
              "3          1                                           0.399844          \n",
              "4          1                                           0.465022          \n",
              "\n",
              "    ROA(A) before interest and % after tax  \\\n",
              "0                                 0.424389   \n",
              "1                                 0.538214   \n",
              "2                                 0.499019   \n",
              "3                                 0.451265   \n",
              "4                                 0.538432   \n",
              "\n",
              "    ROA(B) before interest and depreciation after tax  \\\n",
              "0                                           0.405750    \n",
              "1                                           0.516730    \n",
              "2                                           0.472295    \n",
              "3                                           0.457733    \n",
              "4                                           0.522298    \n",
              "\n",
              "    Operating Gross Margin   Realized Sales Gross Margin  \\\n",
              "0                 0.601457                      0.601457   \n",
              "1                 0.610235                      0.610235   \n",
              "2                 0.601450                      0.601364   \n",
              "3                 0.583541                      0.583541   \n",
              "4                 0.598783                      0.598783   \n",
              "\n",
              "    Operating Profit Rate   Pre-tax net Interest Rate  \\\n",
              "0                0.998969                    0.796887   \n",
              "1                0.998946                    0.797380   \n",
              "2                0.998857                    0.796403   \n",
              "3                0.998700                    0.796967   \n",
              "4                0.998973                    0.797366   \n",
              "\n",
              "    After-tax net Interest Rate   Non-industry income and expenditure/revenue  \\\n",
              "0                      0.808809                                      0.302646   \n",
              "1                      0.809301                                      0.303556   \n",
              "2                      0.808388                                      0.302035   \n",
              "3                      0.808966                                      0.303350   \n",
              "4                      0.809304                                      0.303475   \n",
              "\n",
              "   ...   Net Income to Total Assets   Total assets to GNP price  \\\n",
              "0  ...                     0.716845                    0.009219   \n",
              "1  ...                     0.795297                    0.008323   \n",
              "2  ...                     0.774670                    0.040003   \n",
              "3  ...                     0.739555                    0.003252   \n",
              "4  ...                     0.795016                    0.003878   \n",
              "\n",
              "    No-credit Interval   Gross Profit to Sales  \\\n",
              "0             0.622879                0.601453   \n",
              "1             0.623652                0.610237   \n",
              "2             0.623841                0.601449   \n",
              "3             0.622929                0.583538   \n",
              "4             0.623521                0.598782   \n",
              "\n",
              "    Net Income to Stockholder's Equity   Liability to Equity  \\\n",
              "0                             0.827890              0.290202   \n",
              "1                             0.839969              0.283846   \n",
              "2                             0.836774              0.290189   \n",
              "3                             0.834697              0.281721   \n",
              "4                             0.839973              0.278514   \n",
              "\n",
              "    Degree of Financial Leverage (DFL)  \\\n",
              "0                             0.026601   \n",
              "1                             0.264577   \n",
              "2                             0.026555   \n",
              "3                             0.026697   \n",
              "4                             0.024752   \n",
              "\n",
              "    Interest Coverage Ratio (Interest expense to EBIT)   Net Income Flag  \\\n",
              "0                                           0.564050                   1   \n",
              "1                                           0.570175                   1   \n",
              "2                                           0.563706                   1   \n",
              "3                                           0.564663                   1   \n",
              "4                                           0.575617                   1   \n",
              "\n",
              "    Equity to Liability  \n",
              "0              0.016469  \n",
              "1              0.020794  \n",
              "2              0.016474  \n",
              "3              0.023982  \n",
              "4              0.035490  \n",
              "\n",
              "[5 rows x 96 columns]"
            ],
            "text/html": [
              "\n",
              "  <div id=\"df-0e318407-c44a-45b6-8faa-2ad94e4ce507\">\n",
              "    <div class=\"colab-df-container\">\n",
              "      <div>\n",
              "<style scoped>\n",
              "    .dataframe tbody tr th:only-of-type {\n",
              "        vertical-align: middle;\n",
              "    }\n",
              "\n",
              "    .dataframe tbody tr th {\n",
              "        vertical-align: top;\n",
              "    }\n",
              "\n",
              "    .dataframe thead th {\n",
              "        text-align: right;\n",
              "    }\n",
              "</style>\n",
              "<table border=\"1\" class=\"dataframe\">\n",
              "  <thead>\n",
              "    <tr style=\"text-align: right;\">\n",
              "      <th></th>\n",
              "      <th>Bankrupt?</th>\n",
              "      <th>ROA(C) before interest and depreciation before interest</th>\n",
              "      <th>ROA(A) before interest and % after tax</th>\n",
              "      <th>ROA(B) before interest and depreciation after tax</th>\n",
              "      <th>Operating Gross Margin</th>\n",
              "      <th>Realized Sales Gross Margin</th>\n",
              "      <th>Operating Profit Rate</th>\n",
              "      <th>Pre-tax net Interest Rate</th>\n",
              "      <th>After-tax net Interest Rate</th>\n",
              "      <th>Non-industry income and expenditure/revenue</th>\n",
              "      <th>...</th>\n",
              "      <th>Net Income to Total Assets</th>\n",
              "      <th>Total assets to GNP price</th>\n",
              "      <th>No-credit Interval</th>\n",
              "      <th>Gross Profit to Sales</th>\n",
              "      <th>Net Income to Stockholder's Equity</th>\n",
              "      <th>Liability to Equity</th>\n",
              "      <th>Degree of Financial Leverage (DFL)</th>\n",
              "      <th>Interest Coverage Ratio (Interest expense to EBIT)</th>\n",
              "      <th>Net Income Flag</th>\n",
              "      <th>Equity to Liability</th>\n",
              "    </tr>\n",
              "  </thead>\n",
              "  <tbody>\n",
              "    <tr>\n",
              "      <th>0</th>\n",
              "      <td>1</td>\n",
              "      <td>0.370594</td>\n",
              "      <td>0.424389</td>\n",
              "      <td>0.405750</td>\n",
              "      <td>0.601457</td>\n",
              "      <td>0.601457</td>\n",
              "      <td>0.998969</td>\n",
              "      <td>0.796887</td>\n",
              "      <td>0.808809</td>\n",
              "      <td>0.302646</td>\n",
              "      <td>...</td>\n",
              "      <td>0.716845</td>\n",
              "      <td>0.009219</td>\n",
              "      <td>0.622879</td>\n",
              "      <td>0.601453</td>\n",
              "      <td>0.827890</td>\n",
              "      <td>0.290202</td>\n",
              "      <td>0.026601</td>\n",
              "      <td>0.564050</td>\n",
              "      <td>1</td>\n",
              "      <td>0.016469</td>\n",
              "    </tr>\n",
              "    <tr>\n",
              "      <th>1</th>\n",
              "      <td>1</td>\n",
              "      <td>0.464291</td>\n",
              "      <td>0.538214</td>\n",
              "      <td>0.516730</td>\n",
              "      <td>0.610235</td>\n",
              "      <td>0.610235</td>\n",
              "      <td>0.998946</td>\n",
              "      <td>0.797380</td>\n",
              "      <td>0.809301</td>\n",
              "      <td>0.303556</td>\n",
              "      <td>...</td>\n",
              "      <td>0.795297</td>\n",
              "      <td>0.008323</td>\n",
              "      <td>0.623652</td>\n",
              "      <td>0.610237</td>\n",
              "      <td>0.839969</td>\n",
              "      <td>0.283846</td>\n",
              "      <td>0.264577</td>\n",
              "      <td>0.570175</td>\n",
              "      <td>1</td>\n",
              "      <td>0.020794</td>\n",
              "    </tr>\n",
              "    <tr>\n",
              "      <th>2</th>\n",
              "      <td>1</td>\n",
              "      <td>0.426071</td>\n",
              "      <td>0.499019</td>\n",
              "      <td>0.472295</td>\n",
              "      <td>0.601450</td>\n",
              "      <td>0.601364</td>\n",
              "      <td>0.998857</td>\n",
              "      <td>0.796403</td>\n",
              "      <td>0.808388</td>\n",
              "      <td>0.302035</td>\n",
              "      <td>...</td>\n",
              "      <td>0.774670</td>\n",
              "      <td>0.040003</td>\n",
              "      <td>0.623841</td>\n",
              "      <td>0.601449</td>\n",
              "      <td>0.836774</td>\n",
              "      <td>0.290189</td>\n",
              "      <td>0.026555</td>\n",
              "      <td>0.563706</td>\n",
              "      <td>1</td>\n",
              "      <td>0.016474</td>\n",
              "    </tr>\n",
              "    <tr>\n",
              "      <th>3</th>\n",
              "      <td>1</td>\n",
              "      <td>0.399844</td>\n",
              "      <td>0.451265</td>\n",
              "      <td>0.457733</td>\n",
              "      <td>0.583541</td>\n",
              "      <td>0.583541</td>\n",
              "      <td>0.998700</td>\n",
              "      <td>0.796967</td>\n",
              "      <td>0.808966</td>\n",
              "      <td>0.303350</td>\n",
              "      <td>...</td>\n",
              "      <td>0.739555</td>\n",
              "      <td>0.003252</td>\n",
              "      <td>0.622929</td>\n",
              "      <td>0.583538</td>\n",
              "      <td>0.834697</td>\n",
              "      <td>0.281721</td>\n",
              "      <td>0.026697</td>\n",
              "      <td>0.564663</td>\n",
              "      <td>1</td>\n",
              "      <td>0.023982</td>\n",
              "    </tr>\n",
              "    <tr>\n",
              "      <th>4</th>\n",
              "      <td>1</td>\n",
              "      <td>0.465022</td>\n",
              "      <td>0.538432</td>\n",
              "      <td>0.522298</td>\n",
              "      <td>0.598783</td>\n",
              "      <td>0.598783</td>\n",
              "      <td>0.998973</td>\n",
              "      <td>0.797366</td>\n",
              "      <td>0.809304</td>\n",
              "      <td>0.303475</td>\n",
              "      <td>...</td>\n",
              "      <td>0.795016</td>\n",
              "      <td>0.003878</td>\n",
              "      <td>0.623521</td>\n",
              "      <td>0.598782</td>\n",
              "      <td>0.839973</td>\n",
              "      <td>0.278514</td>\n",
              "      <td>0.024752</td>\n",
              "      <td>0.575617</td>\n",
              "      <td>1</td>\n",
              "      <td>0.035490</td>\n",
              "    </tr>\n",
              "  </tbody>\n",
              "</table>\n",
              "<p>5 rows × 96 columns</p>\n",
              "</div>\n",
              "      <button class=\"colab-df-convert\" onclick=\"convertToInteractive('df-0e318407-c44a-45b6-8faa-2ad94e4ce507')\"\n",
              "              title=\"Convert this dataframe to an interactive table.\"\n",
              "              style=\"display:none;\">\n",
              "        \n",
              "  <svg xmlns=\"http://www.w3.org/2000/svg\" height=\"24px\"viewBox=\"0 0 24 24\"\n",
              "       width=\"24px\">\n",
              "    <path d=\"M0 0h24v24H0V0z\" fill=\"none\"/>\n",
              "    <path d=\"M18.56 5.44l.94 2.06.94-2.06 2.06-.94-2.06-.94-.94-2.06-.94 2.06-2.06.94zm-11 1L8.5 8.5l.94-2.06 2.06-.94-2.06-.94L8.5 2.5l-.94 2.06-2.06.94zm10 10l.94 2.06.94-2.06 2.06-.94-2.06-.94-.94-2.06-.94 2.06-2.06.94z\"/><path d=\"M17.41 7.96l-1.37-1.37c-.4-.4-.92-.59-1.43-.59-.52 0-1.04.2-1.43.59L10.3 9.45l-7.72 7.72c-.78.78-.78 2.05 0 2.83L4 21.41c.39.39.9.59 1.41.59.51 0 1.02-.2 1.41-.59l7.78-7.78 2.81-2.81c.8-.78.8-2.07 0-2.86zM5.41 20L4 18.59l7.72-7.72 1.47 1.35L5.41 20z\"/>\n",
              "  </svg>\n",
              "      </button>\n",
              "      \n",
              "  <style>\n",
              "    .colab-df-container {\n",
              "      display:flex;\n",
              "      flex-wrap:wrap;\n",
              "      gap: 12px;\n",
              "    }\n",
              "\n",
              "    .colab-df-convert {\n",
              "      background-color: #E8F0FE;\n",
              "      border: none;\n",
              "      border-radius: 50%;\n",
              "      cursor: pointer;\n",
              "      display: none;\n",
              "      fill: #1967D2;\n",
              "      height: 32px;\n",
              "      padding: 0 0 0 0;\n",
              "      width: 32px;\n",
              "    }\n",
              "\n",
              "    .colab-df-convert:hover {\n",
              "      background-color: #E2EBFA;\n",
              "      box-shadow: 0px 1px 2px rgba(60, 64, 67, 0.3), 0px 1px 3px 1px rgba(60, 64, 67, 0.15);\n",
              "      fill: #174EA6;\n",
              "    }\n",
              "\n",
              "    [theme=dark] .colab-df-convert {\n",
              "      background-color: #3B4455;\n",
              "      fill: #D2E3FC;\n",
              "    }\n",
              "\n",
              "    [theme=dark] .colab-df-convert:hover {\n",
              "      background-color: #434B5C;\n",
              "      box-shadow: 0px 1px 3px 1px rgba(0, 0, 0, 0.15);\n",
              "      filter: drop-shadow(0px 1px 2px rgba(0, 0, 0, 0.3));\n",
              "      fill: #FFFFFF;\n",
              "    }\n",
              "  </style>\n",
              "\n",
              "      <script>\n",
              "        const buttonEl =\n",
              "          document.querySelector('#df-0e318407-c44a-45b6-8faa-2ad94e4ce507 button.colab-df-convert');\n",
              "        buttonEl.style.display =\n",
              "          google.colab.kernel.accessAllowed ? 'block' : 'none';\n",
              "\n",
              "        async function convertToInteractive(key) {\n",
              "          const element = document.querySelector('#df-0e318407-c44a-45b6-8faa-2ad94e4ce507');\n",
              "          const dataTable =\n",
              "            await google.colab.kernel.invokeFunction('convertToInteractive',\n",
              "                                                     [key], {});\n",
              "          if (!dataTable) return;\n",
              "\n",
              "          const docLinkHtml = 'Like what you see? Visit the ' +\n",
              "            '<a target=\"_blank\" href=https://colab.research.google.com/notebooks/data_table.ipynb>data table notebook</a>'\n",
              "            + ' to learn more about interactive tables.';\n",
              "          element.innerHTML = '';\n",
              "          dataTable['output_type'] = 'display_data';\n",
              "          await google.colab.output.renderOutput(dataTable, element);\n",
              "          const docLink = document.createElement('div');\n",
              "          docLink.innerHTML = docLinkHtml;\n",
              "          element.appendChild(docLink);\n",
              "        }\n",
              "      </script>\n",
              "    </div>\n",
              "  </div>\n",
              "  "
            ]
          },
          "metadata": {},
          "execution_count": 22
        }
      ]
    },
    {
      "cell_type": "markdown",
      "metadata": {
        "id": "yEeA-UHUyq19"
      },
      "source": [
        "# Exploring Dataset\n"
      ]
    },
    {
      "cell_type": "code",
      "source": [
        "data.describe()"
      ],
      "metadata": {
        "id": "KUpPUbOSItHA"
      },
      "execution_count": null,
      "outputs": []
    },
    {
      "cell_type": "markdown",
      "source": [
        "Checking for null vlaues"
      ],
      "metadata": {
        "id": "W9yeevYSD28c"
      }
    },
    {
      "cell_type": "code",
      "execution_count": null,
      "metadata": {
        "execution": {
          "iopub.execute_input": "2022-04-14T04:17:22.877819Z",
          "iopub.status.busy": "2022-04-14T04:17:22.877543Z",
          "iopub.status.idle": "2022-04-14T04:17:22.886603Z",
          "shell.execute_reply": "2022-04-14T04:17:22.885663Z",
          "shell.execute_reply.started": "2022-04-14T04:17:22.877789Z"
        },
        "colab": {
          "base_uri": "https://localhost:8080/"
        },
        "id": "ctB432HDyq18",
        "outputId": "2f234639-23f6-4d55-bb40-db591e6357fc"
      },
      "outputs": [
        {
          "output_type": "execute_result",
          "data": {
            "text/plain": [
              "0"
            ]
          },
          "metadata": {},
          "execution_count": 6
        }
      ],
      "source": [
        "data.isna().sum().values.sum()"
      ]
    },
    {
      "cell_type": "markdown",
      "source": [
        "Removing trailing whitespace from column names"
      ],
      "metadata": {
        "id": "ZPJIntnaG4hV"
      }
    },
    {
      "cell_type": "code",
      "source": [
        "data.columns = data.columns.str.strip()\n",
        "data.columns"
      ],
      "metadata": {
        "id": "mXPOt5_rD7PA",
        "outputId": "3e56329b-ee2c-44ba-efd3-ca6f08d0b2c5",
        "colab": {
          "base_uri": "https://localhost:8080/"
        }
      },
      "execution_count": 47,
      "outputs": [
        {
          "output_type": "execute_result",
          "data": {
            "text/plain": [
              "Index(['Bankrupt?', 'ROA(C) before interest and depreciation before interest',\n",
              "       'ROA(A) before interest and % after tax',\n",
              "       'ROA(B) before interest and depreciation after tax',\n",
              "       'Operating Gross Margin', 'Realized Sales Gross Margin',\n",
              "       'Operating Profit Rate', 'Pre-tax net Interest Rate',\n",
              "       'After-tax net Interest Rate',\n",
              "       'Non-industry income and expenditure/revenue',\n",
              "       'Continuous interest rate (after tax)', 'Operating Expense Rate',\n",
              "       'Research and development expense rate', 'Cash flow rate',\n",
              "       'Interest-bearing debt interest rate', 'Tax rate (A)',\n",
              "       'Net Value Per Share (B)', 'Net Value Per Share (A)',\n",
              "       'Net Value Per Share (C)', 'Persistent EPS in the Last Four Seasons',\n",
              "       'Cash Flow Per Share', 'Revenue Per Share (Yuan ¥)',\n",
              "       'Operating Profit Per Share (Yuan ¥)',\n",
              "       'Per Share Net profit before tax (Yuan ¥)',\n",
              "       'Realized Sales Gross Profit Growth Rate',\n",
              "       'Operating Profit Growth Rate', 'After-tax Net Profit Growth Rate',\n",
              "       'Regular Net Profit Growth Rate', 'Continuous Net Profit Growth Rate',\n",
              "       'Total Asset Growth Rate', 'Net Value Growth Rate',\n",
              "       'Total Asset Return Growth Rate Ratio', 'Cash Reinvestment %',\n",
              "       'Current Ratio', 'Quick Ratio', 'Interest Expense Ratio',\n",
              "       'Total debt/Total net worth', 'Debt ratio %', 'Net worth/Assets',\n",
              "       'Long-term fund suitability ratio (A)', 'Borrowing dependency',\n",
              "       'Contingent liabilities/Net worth', 'Operating profit/Paid-in capital',\n",
              "       'Net profit before tax/Paid-in capital',\n",
              "       'Inventory and accounts receivable/Net value', 'Total Asset Turnover',\n",
              "       'Accounts Receivable Turnover', 'Average Collection Days',\n",
              "       'Inventory Turnover Rate (times)', 'Fixed Assets Turnover Frequency',\n",
              "       'Net Worth Turnover Rate (times)', 'Revenue per person',\n",
              "       'Operating profit per person', 'Allocation rate per person',\n",
              "       'Working Capital to Total Assets', 'Quick Assets/Total Assets',\n",
              "       'Current Assets/Total Assets', 'Cash/Total Assets',\n",
              "       'Quick Assets/Current Liability', 'Cash/Current Liability',\n",
              "       'Current Liability to Assets', 'Operating Funds to Liability',\n",
              "       'Inventory/Working Capital', 'Inventory/Current Liability',\n",
              "       'Current Liabilities/Liability', 'Working Capital/Equity',\n",
              "       'Current Liabilities/Equity', 'Long-term Liability to Current Assets',\n",
              "       'Retained Earnings to Total Assets', 'Total income/Total expense',\n",
              "       'Total expense/Assets', 'Current Asset Turnover Rate',\n",
              "       'Quick Asset Turnover Rate', 'Working capitcal Turnover Rate',\n",
              "       'Cash Turnover Rate', 'Cash Flow to Sales', 'Fixed Assets to Assets',\n",
              "       'Current Liability to Liability', 'Current Liability to Equity',\n",
              "       'Equity to Long-term Liability', 'Cash Flow to Total Assets',\n",
              "       'Cash Flow to Liability', 'CFO to Assets', 'Cash Flow to Equity',\n",
              "       'Current Liability to Current Assets', 'Liability-Assets Flag',\n",
              "       'Net Income to Total Assets', 'Total assets to GNP price',\n",
              "       'No-credit Interval', 'Gross Profit to Sales',\n",
              "       'Net Income to Stockholder's Equity', 'Liability to Equity',\n",
              "       'Degree of Financial Leverage (DFL)',\n",
              "       'Interest Coverage Ratio (Interest expense to EBIT)', 'Net Income Flag',\n",
              "       'Equity to Liability'],\n",
              "      dtype='object')"
            ]
          },
          "metadata": {},
          "execution_count": 47
        }
      ]
    },
    {
      "cell_type": "markdown",
      "source": [
        "View the correlation between bankruptcy and the features"
      ],
      "metadata": {
        "id": "_PhJ1HL-P9ah"
      }
    },
    {
      "cell_type": "code",
      "source": [
        "data.corr()"
      ],
      "metadata": {
        "colab": {
          "base_uri": "https://localhost:8080/",
          "height": 1000
        },
        "id": "JIEsixhvO2kb",
        "outputId": "d5db412e-9f97-4da9-e770-3f247a22179c"
      },
      "execution_count": 46,
      "outputs": [
        {
          "output_type": "execute_result",
          "data": {
            "text/plain": [
              "                                                    Bankrupt?  \\\n",
              "Bankrupt?                                            1.000000   \n",
              "ROA(C) before interest and depreciation before ...  -0.260807   \n",
              "ROA(A) before interest and % after tax              -0.282941   \n",
              "ROA(B) before interest and depreciation after tax   -0.273051   \n",
              "Operating Gross Margin                              -0.100043   \n",
              "...                                                       ...   \n",
              "Liability to Equity                                  0.166812   \n",
              "Degree of Financial Leverage (DFL)                   0.010508   \n",
              "Interest Coverage Ratio (Interest expense to EBIT)  -0.005509   \n",
              "Net Income Flag                                           NaN   \n",
              "Equity to Liability                                 -0.083048   \n",
              "\n",
              "                                                    ROA(C) before interest and depreciation before interest  \\\n",
              "Bankrupt?                                                                                   -0.260807         \n",
              "ROA(C) before interest and depreciation before ...                                           1.000000         \n",
              "ROA(A) before interest and % after tax                                                       0.940124         \n",
              "ROA(B) before interest and depreciation after tax                                            0.986849         \n",
              "Operating Gross Margin                                                                       0.334719         \n",
              "...                                                                                               ...         \n",
              "Liability to Equity                                                                         -0.143629         \n",
              "Degree of Financial Leverage (DFL)                                                          -0.016575         \n",
              "Interest Coverage Ratio (Interest expense to EBIT)                                           0.010573         \n",
              "Net Income Flag                                                                                   NaN         \n",
              "Equity to Liability                                                                          0.052416         \n",
              "\n",
              "                                                    ROA(A) before interest and % after tax  \\\n",
              "Bankrupt?                                                                        -0.282941   \n",
              "ROA(C) before interest and depreciation before ...                                0.940124   \n",
              "ROA(A) before interest and % after tax                                            1.000000   \n",
              "ROA(B) before interest and depreciation after tax                                 0.955741   \n",
              "Operating Gross Margin                                                            0.326969   \n",
              "...                                                                                    ...   \n",
              "Liability to Equity                                                              -0.141039   \n",
              "Degree of Financial Leverage (DFL)                                               -0.011515   \n",
              "Interest Coverage Ratio (Interest expense to EBIT)                                0.013372   \n",
              "Net Income Flag                                                                        NaN   \n",
              "Equity to Liability                                                               0.057887   \n",
              "\n",
              "                                                    ROA(B) before interest and depreciation after tax  \\\n",
              "Bankrupt?                                                                                   -0.273051   \n",
              "ROA(C) before interest and depreciation before ...                                           0.986849   \n",
              "ROA(A) before interest and % after tax                                                       0.955741   \n",
              "ROA(B) before interest and depreciation after tax                                            1.000000   \n",
              "Operating Gross Margin                                                                       0.333749   \n",
              "...                                                                                               ...   \n",
              "Liability to Equity                                                                         -0.142838   \n",
              "Degree of Financial Leverage (DFL)                                                          -0.014663   \n",
              "Interest Coverage Ratio (Interest expense to EBIT)                                           0.011473   \n",
              "Net Income Flag                                                                                   NaN   \n",
              "Equity to Liability                                                                          0.056430   \n",
              "\n",
              "                                                    Operating Gross Margin  \\\n",
              "Bankrupt?                                                        -0.100043   \n",
              "ROA(C) before interest and depreciation before ...                0.334719   \n",
              "ROA(A) before interest and % after tax                            0.326969   \n",
              "ROA(B) before interest and depreciation after tax                 0.333749   \n",
              "Operating Gross Margin                                            1.000000   \n",
              "...                                                                    ...   \n",
              "Liability to Equity                                              -0.085434   \n",
              "Degree of Financial Leverage (DFL)                               -0.011806   \n",
              "Interest Coverage Ratio (Interest expense to EBIT)               -0.001167   \n",
              "Net Income Flag                                                        NaN   \n",
              "Equity to Liability                                               0.120029   \n",
              "\n",
              "                                                    Realized Sales Gross Margin  \\\n",
              "Bankrupt?                                                             -0.099445   \n",
              "ROA(C) before interest and depreciation before ...                     0.332755   \n",
              "ROA(A) before interest and % after tax                                 0.324956   \n",
              "ROA(B) before interest and depreciation after tax                      0.331755   \n",
              "Operating Gross Margin                                                 0.999518   \n",
              "...                                                                         ...   \n",
              "Liability to Equity                                                   -0.085407   \n",
              "Degree of Financial Leverage (DFL)                                    -0.011268   \n",
              "Interest Coverage Ratio (Interest expense to EBIT)                    -0.001158   \n",
              "Net Income Flag                                                             NaN   \n",
              "Equity to Liability                                                    0.120196   \n",
              "\n",
              "                                                    Operating Profit Rate  \\\n",
              "Bankrupt?                                                       -0.000230   \n",
              "ROA(C) before interest and depreciation before ...               0.035725   \n",
              "ROA(A) before interest and % after tax                           0.032053   \n",
              "ROA(B) before interest and depreciation after tax                0.035212   \n",
              "Operating Gross Margin                                           0.005745   \n",
              "...                                                                   ...   \n",
              "Liability to Equity                                              0.001541   \n",
              "Degree of Financial Leverage (DFL)                               0.000935   \n",
              "Interest Coverage Ratio (Interest expense to EBIT)               0.000393   \n",
              "Net Income Flag                                                       NaN   \n",
              "Equity to Liability                                             -0.017071   \n",
              "\n",
              "                                                    Pre-tax net Interest Rate  \\\n",
              "Bankrupt?                                                           -0.008517   \n",
              "ROA(C) before interest and depreciation before ...                   0.053419   \n",
              "ROA(A) before interest and % after tax                               0.053518   \n",
              "ROA(B) before interest and depreciation after tax                    0.053726   \n",
              "Operating Gross Margin                                               0.032493   \n",
              "...                                                                       ...   \n",
              "Liability to Equity                                                 -0.004043   \n",
              "Degree of Financial Leverage (DFL)                                   0.000855   \n",
              "Interest Coverage Ratio (Interest expense to EBIT)                   0.000984   \n",
              "Net Income Flag                                                           NaN   \n",
              "Equity to Liability                                                 -0.014559   \n",
              "\n",
              "                                                    After-tax net Interest Rate  \\\n",
              "Bankrupt?                                                             -0.008857   \n",
              "ROA(C) before interest and depreciation before ...                     0.049222   \n",
              "ROA(A) before interest and % after tax                                 0.049474   \n",
              "ROA(B) before interest and depreciation after tax                      0.049952   \n",
              "Operating Gross Margin                                                 0.027175   \n",
              "...                                                                         ...   \n",
              "Liability to Equity                                                   -0.004390   \n",
              "Degree of Financial Leverage (DFL)                                     0.000927   \n",
              "Interest Coverage Ratio (Interest expense to EBIT)                     0.000957   \n",
              "Net Income Flag                                                             NaN   \n",
              "Equity to Liability                                                   -0.010900   \n",
              "\n",
              "                                                    Non-industry income and expenditure/revenue  \\\n",
              "Bankrupt?                                                                             -0.016593   \n",
              "ROA(C) before interest and depreciation before ...                                     0.020501   \n",
              "ROA(A) before interest and % after tax                                                 0.029649   \n",
              "ROA(B) before interest and depreciation after tax                                      0.022366   \n",
              "Operating Gross Margin                                                                 0.051438   \n",
              "...                                                                                         ...   \n",
              "Liability to Equity                                                                   -0.011899   \n",
              "Degree of Financial Leverage (DFL)                                                    -0.000556   \n",
              "Interest Coverage Ratio (Interest expense to EBIT)                                     0.001024   \n",
              "Net Income Flag                                                                             NaN   \n",
              "Equity to Liability                                                                    0.012293   \n",
              "\n",
              "                                                    ...  \\\n",
              "Bankrupt?                                           ...   \n",
              "ROA(C) before interest and depreciation before ...  ...   \n",
              "ROA(A) before interest and % after tax              ...   \n",
              "ROA(B) before interest and depreciation after tax   ...   \n",
              "Operating Gross Margin                              ...   \n",
              "...                                                 ...   \n",
              "Liability to Equity                                 ...   \n",
              "Degree of Financial Leverage (DFL)                  ...   \n",
              "Interest Coverage Ratio (Interest expense to EBIT)  ...   \n",
              "Net Income Flag                                     ...   \n",
              "Equity to Liability                                 ...   \n",
              "\n",
              "                                                    Net Income to Total Assets  \\\n",
              "Bankrupt?                                                            -0.315457   \n",
              "ROA(C) before interest and depreciation before ...                    0.887670   \n",
              "ROA(A) before interest and % after tax                                0.961552   \n",
              "ROA(B) before interest and depreciation after tax                     0.912040   \n",
              "Operating Gross Margin                                                0.300143   \n",
              "...                                                                        ...   \n",
              "Liability to Equity                                                  -0.159697   \n",
              "Degree of Financial Leverage (DFL)                                   -0.010463   \n",
              "Interest Coverage Ratio (Interest expense to EBIT)                    0.012746   \n",
              "Net Income Flag                                                            NaN   \n",
              "Equity to Liability                                                   0.073916   \n",
              "\n",
              "                                                    Total assets to GNP price  \\\n",
              "Bankrupt?                                                            0.035104   \n",
              "ROA(C) before interest and depreciation before ...                  -0.071725   \n",
              "ROA(A) before interest and % after tax                              -0.098900   \n",
              "ROA(B) before interest and depreciation after tax                   -0.089088   \n",
              "Operating Gross Margin                                               0.022672   \n",
              "...                                                                       ...   \n",
              "Liability to Equity                                                  0.021982   \n",
              "Degree of Financial Leverage (DFL)                                  -0.001881   \n",
              "Interest Coverage Ratio (Interest expense to EBIT)                   0.000239   \n",
              "Net Income Flag                                                           NaN   \n",
              "Equity to Liability                                                  0.014871   \n",
              "\n",
              "                                                    No-credit Interval  \\\n",
              "Bankrupt?                                                    -0.005547   \n",
              "ROA(C) before interest and depreciation before ...            0.008135   \n",
              "ROA(A) before interest and % after tax                        0.011463   \n",
              "ROA(B) before interest and depreciation after tax             0.007523   \n",
              "Operating Gross Margin                                        0.004205   \n",
              "...                                                                ...   \n",
              "Liability to Equity                                          -0.003724   \n",
              "Degree of Financial Leverage (DFL)                           -0.008812   \n",
              "Interest Coverage Ratio (Interest expense to EBIT)            0.001027   \n",
              "Net Income Flag                                                    NaN   \n",
              "Equity to Liability                                           0.050609   \n",
              "\n",
              "                                                    Gross Profit to Sales  \\\n",
              "Bankrupt?                                                       -0.100044   \n",
              "ROA(C) before interest and depreciation before ...               0.334721   \n",
              "ROA(A) before interest and % after tax                           0.326971   \n",
              "ROA(B) before interest and depreciation after tax                0.333750   \n",
              "Operating Gross Margin                                           1.000000   \n",
              "...                                                                   ...   \n",
              "Liability to Equity                                             -0.085434   \n",
              "Degree of Financial Leverage (DFL)                              -0.011806   \n",
              "Interest Coverage Ratio (Interest expense to EBIT)              -0.001169   \n",
              "Net Income Flag                                                       NaN   \n",
              "Equity to Liability                                              0.120027   \n",
              "\n",
              "                                                    Net Income to Stockholder's Equity  \\\n",
              "Bankrupt?                                                                    -0.180987   \n",
              "ROA(C) before interest and depreciation before ...                            0.274287   \n",
              "ROA(A) before interest and % after tax                                        0.291744   \n",
              "ROA(B) before interest and depreciation after tax                             0.280617   \n",
              "Operating Gross Margin                                                        0.075304   \n",
              "...                                                                                ...   \n",
              "Liability to Equity                                                          -0.791836   \n",
              "Degree of Financial Leverage (DFL)                                           -0.000093   \n",
              "Interest Coverage Ratio (Interest expense to EBIT)                            0.005147   \n",
              "Net Income Flag                                                                    NaN   \n",
              "Equity to Liability                                                           0.029622   \n",
              "\n",
              "                                                    Liability to Equity  \\\n",
              "Bankrupt?                                                      0.166812   \n",
              "ROA(C) before interest and depreciation before ...            -0.143629   \n",
              "ROA(A) before interest and % after tax                        -0.141039   \n",
              "ROA(B) before interest and depreciation after tax             -0.142838   \n",
              "Operating Gross Margin                                        -0.085434   \n",
              "...                                                                 ...   \n",
              "Liability to Equity                                            1.000000   \n",
              "Degree of Financial Leverage (DFL)                             0.002119   \n",
              "Interest Coverage Ratio (Interest expense to EBIT)             0.001487   \n",
              "Net Income Flag                                                     NaN   \n",
              "Equity to Liability                                           -0.159654   \n",
              "\n",
              "                                                    Degree of Financial Leverage (DFL)  \\\n",
              "Bankrupt?                                                                     0.010508   \n",
              "ROA(C) before interest and depreciation before ...                           -0.016575   \n",
              "ROA(A) before interest and % after tax                                       -0.011515   \n",
              "ROA(B) before interest and depreciation after tax                            -0.014663   \n",
              "Operating Gross Margin                                                       -0.011806   \n",
              "...                                                                                ...   \n",
              "Liability to Equity                                                           0.002119   \n",
              "Degree of Financial Leverage (DFL)                                            1.000000   \n",
              "Interest Coverage Ratio (Interest expense to EBIT)                            0.016513   \n",
              "Net Income Flag                                                                    NaN   \n",
              "Equity to Liability                                                          -0.016739   \n",
              "\n",
              "                                                    Interest Coverage Ratio (Interest expense to EBIT)  \\\n",
              "Bankrupt?                                                                                   -0.005509    \n",
              "ROA(C) before interest and depreciation before ...                                           0.010573    \n",
              "ROA(A) before interest and % after tax                                                       0.013372    \n",
              "ROA(B) before interest and depreciation after tax                                            0.011473    \n",
              "Operating Gross Margin                                                                      -0.001167    \n",
              "...                                                                                               ...    \n",
              "Liability to Equity                                                                          0.001487    \n",
              "Degree of Financial Leverage (DFL)                                                           0.016513    \n",
              "Interest Coverage Ratio (Interest expense to EBIT)                                           1.000000    \n",
              "Net Income Flag                                                                                   NaN    \n",
              "Equity to Liability                                                                         -0.008339    \n",
              "\n",
              "                                                    Net Income Flag  \\\n",
              "Bankrupt?                                                       NaN   \n",
              "ROA(C) before interest and depreciation before ...              NaN   \n",
              "ROA(A) before interest and % after tax                          NaN   \n",
              "ROA(B) before interest and depreciation after tax               NaN   \n",
              "Operating Gross Margin                                          NaN   \n",
              "...                                                             ...   \n",
              "Liability to Equity                                             NaN   \n",
              "Degree of Financial Leverage (DFL)                              NaN   \n",
              "Interest Coverage Ratio (Interest expense to EBIT)              NaN   \n",
              "Net Income Flag                                                 NaN   \n",
              "Equity to Liability                                             NaN   \n",
              "\n",
              "                                                    Equity to Liability  \n",
              "Bankrupt?                                                     -0.083048  \n",
              "ROA(C) before interest and depreciation before ...             0.052416  \n",
              "ROA(A) before interest and % after tax                         0.057887  \n",
              "ROA(B) before interest and depreciation after tax              0.056430  \n",
              "Operating Gross Margin                                         0.120029  \n",
              "...                                                                 ...  \n",
              "Liability to Equity                                           -0.159654  \n",
              "Degree of Financial Leverage (DFL)                            -0.016739  \n",
              "Interest Coverage Ratio (Interest expense to EBIT)            -0.008339  \n",
              "Net Income Flag                                                     NaN  \n",
              "Equity to Liability                                            1.000000  \n",
              "\n",
              "[96 rows x 96 columns]"
            ],
            "text/html": [
              "\n",
              "  <div id=\"df-1c868c4f-f86a-4f6f-b93a-a34274a8727b\">\n",
              "    <div class=\"colab-df-container\">\n",
              "      <div>\n",
              "<style scoped>\n",
              "    .dataframe tbody tr th:only-of-type {\n",
              "        vertical-align: middle;\n",
              "    }\n",
              "\n",
              "    .dataframe tbody tr th {\n",
              "        vertical-align: top;\n",
              "    }\n",
              "\n",
              "    .dataframe thead th {\n",
              "        text-align: right;\n",
              "    }\n",
              "</style>\n",
              "<table border=\"1\" class=\"dataframe\">\n",
              "  <thead>\n",
              "    <tr style=\"text-align: right;\">\n",
              "      <th></th>\n",
              "      <th>Bankrupt?</th>\n",
              "      <th>ROA(C) before interest and depreciation before interest</th>\n",
              "      <th>ROA(A) before interest and % after tax</th>\n",
              "      <th>ROA(B) before interest and depreciation after tax</th>\n",
              "      <th>Operating Gross Margin</th>\n",
              "      <th>Realized Sales Gross Margin</th>\n",
              "      <th>Operating Profit Rate</th>\n",
              "      <th>Pre-tax net Interest Rate</th>\n",
              "      <th>After-tax net Interest Rate</th>\n",
              "      <th>Non-industry income and expenditure/revenue</th>\n",
              "      <th>...</th>\n",
              "      <th>Net Income to Total Assets</th>\n",
              "      <th>Total assets to GNP price</th>\n",
              "      <th>No-credit Interval</th>\n",
              "      <th>Gross Profit to Sales</th>\n",
              "      <th>Net Income to Stockholder's Equity</th>\n",
              "      <th>Liability to Equity</th>\n",
              "      <th>Degree of Financial Leverage (DFL)</th>\n",
              "      <th>Interest Coverage Ratio (Interest expense to EBIT)</th>\n",
              "      <th>Net Income Flag</th>\n",
              "      <th>Equity to Liability</th>\n",
              "    </tr>\n",
              "  </thead>\n",
              "  <tbody>\n",
              "    <tr>\n",
              "      <th>Bankrupt?</th>\n",
              "      <td>1.000000</td>\n",
              "      <td>-0.260807</td>\n",
              "      <td>-0.282941</td>\n",
              "      <td>-0.273051</td>\n",
              "      <td>-0.100043</td>\n",
              "      <td>-0.099445</td>\n",
              "      <td>-0.000230</td>\n",
              "      <td>-0.008517</td>\n",
              "      <td>-0.008857</td>\n",
              "      <td>-0.016593</td>\n",
              "      <td>...</td>\n",
              "      <td>-0.315457</td>\n",
              "      <td>0.035104</td>\n",
              "      <td>-0.005547</td>\n",
              "      <td>-0.100044</td>\n",
              "      <td>-0.180987</td>\n",
              "      <td>0.166812</td>\n",
              "      <td>0.010508</td>\n",
              "      <td>-0.005509</td>\n",
              "      <td>NaN</td>\n",
              "      <td>-0.083048</td>\n",
              "    </tr>\n",
              "    <tr>\n",
              "      <th>ROA(C) before interest and depreciation before interest</th>\n",
              "      <td>-0.260807</td>\n",
              "      <td>1.000000</td>\n",
              "      <td>0.940124</td>\n",
              "      <td>0.986849</td>\n",
              "      <td>0.334719</td>\n",
              "      <td>0.332755</td>\n",
              "      <td>0.035725</td>\n",
              "      <td>0.053419</td>\n",
              "      <td>0.049222</td>\n",
              "      <td>0.020501</td>\n",
              "      <td>...</td>\n",
              "      <td>0.887670</td>\n",
              "      <td>-0.071725</td>\n",
              "      <td>0.008135</td>\n",
              "      <td>0.334721</td>\n",
              "      <td>0.274287</td>\n",
              "      <td>-0.143629</td>\n",
              "      <td>-0.016575</td>\n",
              "      <td>0.010573</td>\n",
              "      <td>NaN</td>\n",
              "      <td>0.052416</td>\n",
              "    </tr>\n",
              "    <tr>\n",
              "      <th>ROA(A) before interest and % after tax</th>\n",
              "      <td>-0.282941</td>\n",
              "      <td>0.940124</td>\n",
              "      <td>1.000000</td>\n",
              "      <td>0.955741</td>\n",
              "      <td>0.326969</td>\n",
              "      <td>0.324956</td>\n",
              "      <td>0.032053</td>\n",
              "      <td>0.053518</td>\n",
              "      <td>0.049474</td>\n",
              "      <td>0.029649</td>\n",
              "      <td>...</td>\n",
              "      <td>0.961552</td>\n",
              "      <td>-0.098900</td>\n",
              "      <td>0.011463</td>\n",
              "      <td>0.326971</td>\n",
              "      <td>0.291744</td>\n",
              "      <td>-0.141039</td>\n",
              "      <td>-0.011515</td>\n",
              "      <td>0.013372</td>\n",
              "      <td>NaN</td>\n",
              "      <td>0.057887</td>\n",
              "    </tr>\n",
              "    <tr>\n",
              "      <th>ROA(B) before interest and depreciation after tax</th>\n",
              "      <td>-0.273051</td>\n",
              "      <td>0.986849</td>\n",
              "      <td>0.955741</td>\n",
              "      <td>1.000000</td>\n",
              "      <td>0.333749</td>\n",
              "      <td>0.331755</td>\n",
              "      <td>0.035212</td>\n",
              "      <td>0.053726</td>\n",
              "      <td>0.049952</td>\n",
              "      <td>0.022366</td>\n",
              "      <td>...</td>\n",
              "      <td>0.912040</td>\n",
              "      <td>-0.089088</td>\n",
              "      <td>0.007523</td>\n",
              "      <td>0.333750</td>\n",
              "      <td>0.280617</td>\n",
              "      <td>-0.142838</td>\n",
              "      <td>-0.014663</td>\n",
              "      <td>0.011473</td>\n",
              "      <td>NaN</td>\n",
              "      <td>0.056430</td>\n",
              "    </tr>\n",
              "    <tr>\n",
              "      <th>Operating Gross Margin</th>\n",
              "      <td>-0.100043</td>\n",
              "      <td>0.334719</td>\n",
              "      <td>0.326969</td>\n",
              "      <td>0.333749</td>\n",
              "      <td>1.000000</td>\n",
              "      <td>0.999518</td>\n",
              "      <td>0.005745</td>\n",
              "      <td>0.032493</td>\n",
              "      <td>0.027175</td>\n",
              "      <td>0.051438</td>\n",
              "      <td>...</td>\n",
              "      <td>0.300143</td>\n",
              "      <td>0.022672</td>\n",
              "      <td>0.004205</td>\n",
              "      <td>1.000000</td>\n",
              "      <td>0.075304</td>\n",
              "      <td>-0.085434</td>\n",
              "      <td>-0.011806</td>\n",
              "      <td>-0.001167</td>\n",
              "      <td>NaN</td>\n",
              "      <td>0.120029</td>\n",
              "    </tr>\n",
              "    <tr>\n",
              "      <th>...</th>\n",
              "      <td>...</td>\n",
              "      <td>...</td>\n",
              "      <td>...</td>\n",
              "      <td>...</td>\n",
              "      <td>...</td>\n",
              "      <td>...</td>\n",
              "      <td>...</td>\n",
              "      <td>...</td>\n",
              "      <td>...</td>\n",
              "      <td>...</td>\n",
              "      <td>...</td>\n",
              "      <td>...</td>\n",
              "      <td>...</td>\n",
              "      <td>...</td>\n",
              "      <td>...</td>\n",
              "      <td>...</td>\n",
              "      <td>...</td>\n",
              "      <td>...</td>\n",
              "      <td>...</td>\n",
              "      <td>...</td>\n",
              "      <td>...</td>\n",
              "    </tr>\n",
              "    <tr>\n",
              "      <th>Liability to Equity</th>\n",
              "      <td>0.166812</td>\n",
              "      <td>-0.143629</td>\n",
              "      <td>-0.141039</td>\n",
              "      <td>-0.142838</td>\n",
              "      <td>-0.085434</td>\n",
              "      <td>-0.085407</td>\n",
              "      <td>0.001541</td>\n",
              "      <td>-0.004043</td>\n",
              "      <td>-0.004390</td>\n",
              "      <td>-0.011899</td>\n",
              "      <td>...</td>\n",
              "      <td>-0.159697</td>\n",
              "      <td>0.021982</td>\n",
              "      <td>-0.003724</td>\n",
              "      <td>-0.085434</td>\n",
              "      <td>-0.791836</td>\n",
              "      <td>1.000000</td>\n",
              "      <td>0.002119</td>\n",
              "      <td>0.001487</td>\n",
              "      <td>NaN</td>\n",
              "      <td>-0.159654</td>\n",
              "    </tr>\n",
              "    <tr>\n",
              "      <th>Degree of Financial Leverage (DFL)</th>\n",
              "      <td>0.010508</td>\n",
              "      <td>-0.016575</td>\n",
              "      <td>-0.011515</td>\n",
              "      <td>-0.014663</td>\n",
              "      <td>-0.011806</td>\n",
              "      <td>-0.011268</td>\n",
              "      <td>0.000935</td>\n",
              "      <td>0.000855</td>\n",
              "      <td>0.000927</td>\n",
              "      <td>-0.000556</td>\n",
              "      <td>...</td>\n",
              "      <td>-0.010463</td>\n",
              "      <td>-0.001881</td>\n",
              "      <td>-0.008812</td>\n",
              "      <td>-0.011806</td>\n",
              "      <td>-0.000093</td>\n",
              "      <td>0.002119</td>\n",
              "      <td>1.000000</td>\n",
              "      <td>0.016513</td>\n",
              "      <td>NaN</td>\n",
              "      <td>-0.016739</td>\n",
              "    </tr>\n",
              "    <tr>\n",
              "      <th>Interest Coverage Ratio (Interest expense to EBIT)</th>\n",
              "      <td>-0.005509</td>\n",
              "      <td>0.010573</td>\n",
              "      <td>0.013372</td>\n",
              "      <td>0.011473</td>\n",
              "      <td>-0.001167</td>\n",
              "      <td>-0.001158</td>\n",
              "      <td>0.000393</td>\n",
              "      <td>0.000984</td>\n",
              "      <td>0.000957</td>\n",
              "      <td>0.001024</td>\n",
              "      <td>...</td>\n",
              "      <td>0.012746</td>\n",
              "      <td>0.000239</td>\n",
              "      <td>0.001027</td>\n",
              "      <td>-0.001169</td>\n",
              "      <td>0.005147</td>\n",
              "      <td>0.001487</td>\n",
              "      <td>0.016513</td>\n",
              "      <td>1.000000</td>\n",
              "      <td>NaN</td>\n",
              "      <td>-0.008339</td>\n",
              "    </tr>\n",
              "    <tr>\n",
              "      <th>Net Income Flag</th>\n",
              "      <td>NaN</td>\n",
              "      <td>NaN</td>\n",
              "      <td>NaN</td>\n",
              "      <td>NaN</td>\n",
              "      <td>NaN</td>\n",
              "      <td>NaN</td>\n",
              "      <td>NaN</td>\n",
              "      <td>NaN</td>\n",
              "      <td>NaN</td>\n",
              "      <td>NaN</td>\n",
              "      <td>...</td>\n",
              "      <td>NaN</td>\n",
              "      <td>NaN</td>\n",
              "      <td>NaN</td>\n",
              "      <td>NaN</td>\n",
              "      <td>NaN</td>\n",
              "      <td>NaN</td>\n",
              "      <td>NaN</td>\n",
              "      <td>NaN</td>\n",
              "      <td>NaN</td>\n",
              "      <td>NaN</td>\n",
              "    </tr>\n",
              "    <tr>\n",
              "      <th>Equity to Liability</th>\n",
              "      <td>-0.083048</td>\n",
              "      <td>0.052416</td>\n",
              "      <td>0.057887</td>\n",
              "      <td>0.056430</td>\n",
              "      <td>0.120029</td>\n",
              "      <td>0.120196</td>\n",
              "      <td>-0.017071</td>\n",
              "      <td>-0.014559</td>\n",
              "      <td>-0.010900</td>\n",
              "      <td>0.012293</td>\n",
              "      <td>...</td>\n",
              "      <td>0.073916</td>\n",
              "      <td>0.014871</td>\n",
              "      <td>0.050609</td>\n",
              "      <td>0.120027</td>\n",
              "      <td>0.029622</td>\n",
              "      <td>-0.159654</td>\n",
              "      <td>-0.016739</td>\n",
              "      <td>-0.008339</td>\n",
              "      <td>NaN</td>\n",
              "      <td>1.000000</td>\n",
              "    </tr>\n",
              "  </tbody>\n",
              "</table>\n",
              "<p>96 rows × 96 columns</p>\n",
              "</div>\n",
              "      <button class=\"colab-df-convert\" onclick=\"convertToInteractive('df-1c868c4f-f86a-4f6f-b93a-a34274a8727b')\"\n",
              "              title=\"Convert this dataframe to an interactive table.\"\n",
              "              style=\"display:none;\">\n",
              "        \n",
              "  <svg xmlns=\"http://www.w3.org/2000/svg\" height=\"24px\"viewBox=\"0 0 24 24\"\n",
              "       width=\"24px\">\n",
              "    <path d=\"M0 0h24v24H0V0z\" fill=\"none\"/>\n",
              "    <path d=\"M18.56 5.44l.94 2.06.94-2.06 2.06-.94-2.06-.94-.94-2.06-.94 2.06-2.06.94zm-11 1L8.5 8.5l.94-2.06 2.06-.94-2.06-.94L8.5 2.5l-.94 2.06-2.06.94zm10 10l.94 2.06.94-2.06 2.06-.94-2.06-.94-.94-2.06-.94 2.06-2.06.94z\"/><path d=\"M17.41 7.96l-1.37-1.37c-.4-.4-.92-.59-1.43-.59-.52 0-1.04.2-1.43.59L10.3 9.45l-7.72 7.72c-.78.78-.78 2.05 0 2.83L4 21.41c.39.39.9.59 1.41.59.51 0 1.02-.2 1.41-.59l7.78-7.78 2.81-2.81c.8-.78.8-2.07 0-2.86zM5.41 20L4 18.59l7.72-7.72 1.47 1.35L5.41 20z\"/>\n",
              "  </svg>\n",
              "      </button>\n",
              "      \n",
              "  <style>\n",
              "    .colab-df-container {\n",
              "      display:flex;\n",
              "      flex-wrap:wrap;\n",
              "      gap: 12px;\n",
              "    }\n",
              "\n",
              "    .colab-df-convert {\n",
              "      background-color: #E8F0FE;\n",
              "      border: none;\n",
              "      border-radius: 50%;\n",
              "      cursor: pointer;\n",
              "      display: none;\n",
              "      fill: #1967D2;\n",
              "      height: 32px;\n",
              "      padding: 0 0 0 0;\n",
              "      width: 32px;\n",
              "    }\n",
              "\n",
              "    .colab-df-convert:hover {\n",
              "      background-color: #E2EBFA;\n",
              "      box-shadow: 0px 1px 2px rgba(60, 64, 67, 0.3), 0px 1px 3px 1px rgba(60, 64, 67, 0.15);\n",
              "      fill: #174EA6;\n",
              "    }\n",
              "\n",
              "    [theme=dark] .colab-df-convert {\n",
              "      background-color: #3B4455;\n",
              "      fill: #D2E3FC;\n",
              "    }\n",
              "\n",
              "    [theme=dark] .colab-df-convert:hover {\n",
              "      background-color: #434B5C;\n",
              "      box-shadow: 0px 1px 3px 1px rgba(0, 0, 0, 0.15);\n",
              "      filter: drop-shadow(0px 1px 2px rgba(0, 0, 0, 0.3));\n",
              "      fill: #FFFFFF;\n",
              "    }\n",
              "  </style>\n",
              "\n",
              "      <script>\n",
              "        const buttonEl =\n",
              "          document.querySelector('#df-1c868c4f-f86a-4f6f-b93a-a34274a8727b button.colab-df-convert');\n",
              "        buttonEl.style.display =\n",
              "          google.colab.kernel.accessAllowed ? 'block' : 'none';\n",
              "\n",
              "        async function convertToInteractive(key) {\n",
              "          const element = document.querySelector('#df-1c868c4f-f86a-4f6f-b93a-a34274a8727b');\n",
              "          const dataTable =\n",
              "            await google.colab.kernel.invokeFunction('convertToInteractive',\n",
              "                                                     [key], {});\n",
              "          if (!dataTable) return;\n",
              "\n",
              "          const docLinkHtml = 'Like what you see? Visit the ' +\n",
              "            '<a target=\"_blank\" href=https://colab.research.google.com/notebooks/data_table.ipynb>data table notebook</a>'\n",
              "            + ' to learn more about interactive tables.';\n",
              "          element.innerHTML = '';\n",
              "          dataTable['output_type'] = 'display_data';\n",
              "          await google.colab.output.renderOutput(dataTable, element);\n",
              "          const docLink = document.createElement('div');\n",
              "          docLink.innerHTML = docLinkHtml;\n",
              "          element.appendChild(docLink);\n",
              "        }\n",
              "      </script>\n",
              "    </div>\n",
              "  </div>\n",
              "  "
            ]
          },
          "metadata": {},
          "execution_count": 46
        }
      ]
    },
    {
      "cell_type": "code",
      "source": [
        "data[\"ROA(A) before interest and % after tax\"].plot.hist()"
      ],
      "metadata": {
        "colab": {
          "base_uri": "https://localhost:8080/",
          "height": 293
        },
        "id": "5oGionPAHGPI",
        "outputId": "ce28e480-a244-4a82-8d76-b37b7d1b5259"
      },
      "execution_count": 48,
      "outputs": [
        {
          "output_type": "execute_result",
          "data": {
            "text/plain": [
              "<matplotlib.axes._subplots.AxesSubplot at 0x7fd91c270450>"
            ]
          },
          "metadata": {},
          "execution_count": 48
        },
        {
          "output_type": "display_data",
          "data": {
            "text/plain": [
              "<Figure size 432x288 with 1 Axes>"
            ],
            "image/png": "[encoded data removed]"
          },
          "metadata": {}
        }
      ]
    },
    {
      "cell_type": "markdown",
      "source": [
        "How does ROA before interest and after tax, ROA before interest and deprication aftect the likelihood of a company going bankrupt?\n"
      ],
      "metadata": {
        "id": "ehttXDXuSVnx"
      }
    },
    {
      "cell_type": "code",
      "source": [
        "#data[\"Bankrupt?\"].plot.hist()\n",
        "sns.relplot(x=\"ROA(C) before interest and depreciation before interest\", y=\"ROA(A) before interest and % after tax\", hue=\"Bankrupt?\", data=data);"
      ],
      "metadata": {
        "colab": {
          "base_uri": "https://localhost:8080/",
          "height": 391
        },
        "id": "fhMUHlNAJbFi",
        "outputId": "78d6b7f3-1b53-4356-dc47-46a722becb1c"
      },
      "execution_count": 54,
      "outputs": [
        {
          "output_type": "display_data",
          "data": {
            "text/plain": [
              "<Figure size 465.2x360 with 1 Axes>"
            ],
            "image/png": "[encoded data removed]"
          },
          "metadata": {}
        }
      ]
    },
    {
      "cell_type": "markdown",
      "source": [
        "# Testing accuracy with different models.\n"
      ],
      "metadata": {
        "id": "dxiHWO7B06Wq"
      }
    },
    {
      "cell_type": "markdown",
      "source": [
        "Data Wrangling"
      ],
      "metadata": {
        "id": "htE1fLhXHfZM"
      }
    },
    {
      "cell_type": "code",
      "execution_count": null,
      "metadata": {
        "execution": {
          "iopub.execute_input": "2022-04-14T04:17:22.888476Z",
          "iopub.status.busy": "2022-04-14T04:17:22.887988Z",
          "iopub.status.idle": "2022-04-14T04:17:22.903463Z",
          "shell.execute_reply": "2022-04-14T04:17:22.902533Z",
          "shell.execute_reply.started": "2022-04-14T04:17:22.888439Z"
        },
        "id": "RmTAPsEOyq1-"
      },
      "outputs": [],
      "source": [
        "X = data.drop('Bankrupt?', axis=1).values # Rest of the features are our X values\n",
        "y = data['Bankrupt?'].values # Making Bankrupt the Target Value"
      ]
    },
    {
      "cell_type": "code",
      "execution_count": null,
      "metadata": {
        "execution": {
          "iopub.execute_input": "2022-04-14T04:17:22.906172Z",
          "iopub.status.busy": "2022-04-14T04:17:22.905695Z",
          "iopub.status.idle": "2022-04-14T04:17:23.084216Z",
          "shell.execute_reply": "2022-04-14T04:17:23.082907Z",
          "shell.execute_reply.started": "2022-04-14T04:17:22.906120Z"
        },
        "id": "7DX1BQc0yq1-"
      },
      "outputs": [],
      "source": [
        "from imblearn.over_sampling import SMOTE\n",
        "\n",
        "sm = SMOTE(k_neighbors=10, random_state=42)\n",
        "X, y = sm.fit_resample(X, y)"
      ]
    },
    {
      "cell_type": "markdown",
      "source": [
        "Splitting our Dataset.\n"
      ],
      "metadata": {
        "id": "zhx4GcjR2qXq"
      }
    },
    {
      "cell_type": "code",
      "execution_count": null,
      "metadata": {
        "execution": {
          "iopub.execute_input": "2022-04-14T04:17:23.086712Z",
          "iopub.status.busy": "2022-04-14T04:17:23.085993Z",
          "iopub.status.idle": "2022-04-14T04:17:23.098577Z",
          "shell.execute_reply": "2022-04-14T04:17:23.097538Z",
          "shell.execute_reply.started": "2022-04-14T04:17:23.086655Z"
        },
        "id": "MDhY5m22yq2A"
      },
      "outputs": [],
      "source": [
        "from sklearn.model_selection import train_test_split\n",
        "\n",
        "np.random.seed(42)\n",
        "\n",
        "X_train, X_test, y_train, y_test = train_test_split(X, y, test_size=0.2)"
      ]
    },
    {
      "cell_type": "code",
      "execution_count": null,
      "metadata": {
        "execution": {
          "iopub.execute_input": "2022-04-14T04:17:23.101166Z",
          "iopub.status.busy": "2022-04-14T04:17:23.100170Z",
          "iopub.status.idle": "2022-04-14T04:17:23.136445Z",
          "shell.execute_reply": "2022-04-14T04:17:23.135101Z",
          "shell.execute_reply.started": "2022-04-14T04:17:23.101084Z"
        },
        "id": "R7woBjmWyq2C"
      },
      "outputs": [],
      "source": [
        "from sklearn.preprocessing import StandardScaler\n",
        "sc = StandardScaler()\n",
        "\n",
        "X_train = sc.fit_transform(X_train)\n",
        "X_test = sc.fit_transform(X_test)"
      ]
    },
    {
      "cell_type": "markdown",
      "source": [
        "Using the Random Forest Classifier algorithm\n"
      ],
      "metadata": {
        "id": "MVf7A-E62w6N"
      }
    },
    {
      "cell_type": "code",
      "execution_count": null,
      "metadata": {
        "execution": {
          "iopub.execute_input": "2022-04-14T04:17:23.139349Z",
          "iopub.status.busy": "2022-04-14T04:17:23.138262Z",
          "iopub.status.idle": "2022-04-14T04:17:30.768860Z",
          "shell.execute_reply": "2022-04-14T04:17:30.768050Z",
          "shell.execute_reply.started": "2022-04-14T04:17:23.139288Z"
        },
        "colab": {
          "base_uri": "https://localhost:8080/"
        },
        "id": "4CNOQR1nyq2D",
        "outputId": "cd3790c5-d5fc-41b5-ff8a-c65332c39309"
      },
      "outputs": [
        {
          "output_type": "execute_result",
          "data": {
            "text/plain": [
              "0.9534090909090909"
            ]
          },
          "metadata": {},
          "execution_count": 14
        }
      ],
      "source": [
        "from sklearn.ensemble import RandomForestClassifier\n",
        "\n",
        "np.random.seed(42)\n",
        "\n",
        "rf = RandomForestClassifier().fit(X_train, y_train)\n",
        "rf.score(X_test, y_test)"
      ]
    },
    {
      "cell_type": "code",
      "execution_count": null,
      "metadata": {
        "execution": {
          "iopub.execute_input": "2022-04-14T04:17:30.770872Z",
          "iopub.status.busy": "2022-04-14T04:17:30.770305Z",
          "iopub.status.idle": "2022-04-14T04:17:38.352734Z",
          "shell.execute_reply": "2022-04-14T04:17:38.351669Z",
          "shell.execute_reply.started": "2022-04-14T04:17:30.770827Z"
        },
        "id": "IcLPANVYyq2F",
        "outputId": "ff1e4e48-aee7-4c2e-e94e-fbc80121be55"
      },
      "outputs": [
        {
          "data": {
            "text/plain": [
              "0.9367424242424243"
            ]
          },
          "execution_count": 10,
          "metadata": {},
          "output_type": "execute_result"
        }
      ],
      "source": [
        "# 100 estimators\n",
        "rf = RandomForestClassifier(n_estimators=100).fit(X_train, y_train)\n",
        "rf.score(X_test, y_test)"
      ]
    },
    {
      "cell_type": "markdown",
      "source": [
        "Using the KNeighbors Classifer algorithm"
      ],
      "metadata": {
        "id": "W34UqDVM21m7"
      }
    },
    {
      "cell_type": "code",
      "execution_count": null,
      "metadata": {
        "execution": {
          "iopub.execute_input": "2022-04-14T04:17:38.354458Z",
          "iopub.status.busy": "2022-04-14T04:17:38.354137Z",
          "iopub.status.idle": "2022-04-14T04:17:39.251215Z",
          "shell.execute_reply": "2022-04-14T04:17:39.250273Z",
          "shell.execute_reply.started": "2022-04-14T04:17:38.354424Z"
        },
        "id": "qYsyzXRFyq2G",
        "outputId": "559cc0e3-1178-404a-eb9b-6e03d3b80ff3"
      },
      "outputs": [
        {
          "data": {
            "text/plain": [
              "0.9359848484848485"
            ]
          },
          "execution_count": 11,
          "metadata": {},
          "output_type": "execute_result"
        }
      ],
      "source": [
        "from sklearn.neighbors import KNeighborsClassifier\n",
        "\n",
        "knn = KNeighborsClassifier().fit(X_train, y_train)\n",
        "knn.score(X_test, y_test)"
      ]
    },
    {
      "cell_type": "markdown",
      "source": [
        "Using the Logistic Regression Algorithm"
      ],
      "metadata": {
        "id": "eUxeH1-A27Lo"
      }
    },
    {
      "cell_type": "code",
      "execution_count": null,
      "metadata": {
        "execution": {
          "iopub.execute_input": "2022-04-14T04:17:39.253844Z",
          "iopub.status.busy": "2022-04-14T04:17:39.253585Z",
          "iopub.status.idle": "2022-04-14T04:17:39.528130Z",
          "shell.execute_reply": "2022-04-14T04:17:39.527170Z",
          "shell.execute_reply.started": "2022-04-14T04:17:39.253811Z"
        },
        "id": "z5S3lMFPyq2H",
        "outputId": "a155f278-d426-4bce-ef4a-f24be942c79d"
      },
      "outputs": [
        {
          "data": {
            "text/plain": [
              "0.8965909090909091"
            ]
          },
          "execution_count": 12,
          "metadata": {},
          "output_type": "execute_result"
        }
      ],
      "source": [
        "from sklearn.linear_model import LogisticRegression\n",
        "\n",
        "np.random.seed(42)\n",
        "\n",
        "lr = LogisticRegression().fit(X_train, y_train)\n",
        "lr.score(X_test, y_test)"
      ]
    },
    {
      "cell_type": "markdown",
      "source": [
        "Using Support Vector Classifer algorithm"
      ],
      "metadata": {
        "id": "XzEepwni2-vi"
      }
    },
    {
      "cell_type": "code",
      "execution_count": null,
      "metadata": {
        "execution": {
          "iopub.execute_input": "2022-04-14T04:17:39.530656Z",
          "iopub.status.busy": "2022-04-14T04:17:39.529929Z",
          "iopub.status.idle": "2022-04-14T04:17:44.538451Z",
          "shell.execute_reply": "2022-04-14T04:17:44.537438Z",
          "shell.execute_reply.started": "2022-04-14T04:17:39.530595Z"
        },
        "id": "F8J85G5Wyq2I",
        "outputId": "8447bdca-c865-4a01-ff3f-f26a737615a4"
      },
      "outputs": [
        {
          "data": {
            "text/plain": [
              "0.9420454545454545"
            ]
          },
          "execution_count": 13,
          "metadata": {},
          "output_type": "execute_result"
        }
      ],
      "source": [
        "from sklearn.svm import SVC\n",
        "\n",
        "np.random.seed(42)\n",
        "\n",
        "svc = SVC().fit(X_train, y_train)\n",
        "svc.score(X_test, y_test)"
      ]
    },
    {
      "cell_type": "markdown",
      "source": [
        "Cross validation with a logistic regression algorithm to test how our model performs on other datasets."
      ],
      "metadata": {
        "id": "HZt9FQb14mdq"
      }
    },
    {
      "cell_type": "code",
      "execution_count": null,
      "metadata": {
        "execution": {
          "iopub.execute_input": "2022-04-14T04:17:44.540377Z",
          "iopub.status.busy": "2022-04-14T04:17:44.540034Z",
          "iopub.status.idle": "2022-04-14T04:17:47.883693Z",
          "shell.execute_reply": "2022-04-14T04:17:47.882680Z",
          "shell.execute_reply.started": "2022-04-14T04:17:44.540335Z"
        },
        "id": "dsO6jtDIyq2I"
      },
      "outputs": [],
      "source": [
        "from sklearn.model_selection import cross_val_score\n",
        "\n",
        "clf = LogisticRegression()\n",
        "cv_acc = cross_val_score(clf, X, y, scoring='accuracy', cv=10)\n",
        "print(f\"cross-val accuracy (mean): {np.mean(cv_acc)*100:.2f}%\")"
      ]
    },
    {
      "cell_type": "markdown",
      "source": [
        "Cross validation with a random forest classifier algorithm to test how our model performs on other datasets."
      ],
      "metadata": {
        "id": "Za0RcZxo47Ce"
      }
    },
    {
      "cell_type": "code",
      "execution_count": null,
      "metadata": {
        "execution": {
          "iopub.execute_input": "2022-04-14T04:17:47.885975Z",
          "iopub.status.busy": "2022-04-14T04:17:47.885401Z",
          "iopub.status.idle": "2022-04-14T04:19:40.282323Z",
          "shell.execute_reply": "2022-04-14T04:19:40.281265Z",
          "shell.execute_reply.started": "2022-04-14T04:17:47.885921Z"
        },
        "colab": {
          "base_uri": "https://localhost:8080/"
        },
        "id": "RHB0nN7uyq2J",
        "outputId": "b76b49d5-aaac-40ba-a9f8-74ae476994ba"
      },
      "outputs": [
        {
          "output_type": "stream",
          "name": "stdout",
          "text": [
            "cross-val accuracy (mean): 97.68%\n"
          ]
        }
      ],
      "source": [
        "clf = RandomForestClassifier()\n",
        "cv_acc = cross_val_score(clf, X, y, scoring='accuracy', cv=10)\n",
        "print(f\"cross-val accuracy (mean): {np.mean(cv_acc)*100:.2f}%\")"
      ]
    },
    {
      "cell_type": "markdown",
      "source": [
        "Cross validation with Kneighbors classifier algorithm to test how our model performs on other datasets."
      ],
      "metadata": {
        "id": "TZufG24K4_4w"
      }
    },
    {
      "cell_type": "code",
      "execution_count": null,
      "metadata": {
        "execution": {
          "iopub.execute_input": "2022-04-14T04:20:13.978692Z",
          "iopub.status.busy": "2022-04-14T04:20:13.978388Z",
          "iopub.status.idle": "2022-04-14T04:20:18.889895Z",
          "shell.execute_reply": "2022-04-14T04:20:18.888999Z",
          "shell.execute_reply.started": "2022-04-14T04:20:13.978658Z"
        },
        "id": "BgNAopFxyq2K",
        "outputId": "788fbebe-2596-4947-e671-baebb86d4d77"
      },
      "outputs": [
        {
          "name": "stdout",
          "output_type": "stream",
          "text": [
            "cross-val accuracy (mean): 89.66%\n"
          ]
        }
      ],
      "source": [
        "clf = KNeighborsClassifier()\n",
        "cv_acc = cross_val_score(clf, X, y, scoring='accuracy', cv=10)\n",
        "print(f\"cross-val accuracy (mean): {np.mean(cv_acc)*100:.2f}%\")"
      ]
    },
    {
      "cell_type": "markdown",
      "source": [
        "# Random Forest Classifier had the best cross val accuracy. "
      ],
      "metadata": {
        "id": "0cWalhcr6N_K"
      }
    },
    {
      "cell_type": "markdown",
      "source": [
        "Displaying Confusion Matrix with Random Forest as the classifier. "
      ],
      "metadata": {
        "id": "ZRNYpxGw_cZ1"
      }
    },
    {
      "cell_type": "code",
      "execution_count": null,
      "metadata": {
        "execution": {
          "iopub.execute_input": "2022-04-14T04:20:25.657350Z",
          "iopub.status.busy": "2022-04-14T04:20:25.656990Z",
          "iopub.status.idle": "2022-04-14T04:20:33.404088Z",
          "shell.execute_reply": "2022-04-14T04:20:33.403200Z",
          "shell.execute_reply.started": "2022-04-14T04:20:25.657316Z"
        },
        "colab": {
          "base_uri": "https://localhost:8080/",
          "height": 461
        },
        "id": "RJMRf1Hiyq2K",
        "outputId": "01c0ccb8-9c84-420f-8c84-a42c8e1ae148"
      },
      "outputs": [
        {
          "output_type": "display_data",
          "data": {
            "text/plain": [
              "<Figure size 720x504 with 1 Axes>"
            ],
            "image/png": "[encoded data removed]"
          },
          "metadata": {}
        }
      ],
      "source": [
        "import matplotlib.pyplot as plt\n",
        "from sklearn.metrics import confusion_matrix\n",
        "\n",
        "sns.set(font_scale=1.5)\n",
        "\n",
        "clf = RandomForestClassifier()\n",
        "clf.fit(X_train, y_train)\n",
        "\n",
        "y_pred = clf.predict(X_test)\n",
        "\n",
        "def plot_conf_mat(y_test, y_pred):\n",
        "  fig, ax = plt.subplots(figsize=(10,7))\n",
        "  ax = sns.heatmap(confusion_matrix(y_test, y_pred), annot=True, cbar=False)\n",
        "  plt.xlabel(\"True label\")\n",
        "  plt.ylabel(\"Predicted label\")\n",
        "\n",
        "plot_conf_mat(y_test, y_pred)"
      ]
    },
    {
      "cell_type": "markdown",
      "source": [
        "Displaying classification report with Random Forest as the classifier. "
      ],
      "metadata": {
        "id": "7vKEtWxX_wp_"
      }
    },
    {
      "cell_type": "code",
      "execution_count": null,
      "metadata": {
        "execution": {
          "iopub.execute_input": "2022-04-14T04:20:33.406173Z",
          "iopub.status.busy": "2022-04-14T04:20:33.405910Z",
          "iopub.status.idle": "2022-04-14T04:20:40.725889Z",
          "shell.execute_reply": "2022-04-14T04:20:40.724964Z",
          "shell.execute_reply.started": "2022-04-14T04:20:33.406129Z"
        },
        "colab": {
          "base_uri": "https://localhost:8080/",
          "height": 70
        },
        "id": "WnHpgDvvyq2L",
        "outputId": "f266528f-ff97-45cc-9032-76b8e7a6abbc"
      },
      "outputs": [
        {
          "output_type": "execute_result",
          "data": {
            "text/plain": [
              "'              precision    recall  f1-score   support\\n\\n           0       0.95      0.97      0.96      1334\\n           1       0.97      0.95      0.96      1306\\n\\n    accuracy                           0.96      2640\\n   macro avg       0.96      0.96      0.96      2640\\nweighted avg       0.96      0.96      0.96      2640\\n'"
            ],
            "application/vnd.google.colaboratory.intrinsic+json": {
              "type": "string"
            }
          },
          "metadata": {},
          "execution_count": 18
        }
      ],
      "source": [
        "from sklearn.metrics import classification_report\n",
        "\n",
        "clf = RandomForestClassifier()\n",
        "clf.fit(X_train, y_train)\n",
        "\n",
        "y_pred = clf.predict(X_test)\n",
        "\n",
        "classification_report(y_test, y_pred)"
      ]
    }
  ],
  "metadata": {
    "kernelspec": {
      "display_name": "Python 3 (ipykernel)",
      "language": "python",
      "name": "python3"
    },
    "language_info": {
      "codemirror_mode": {
        "name": "ipython",
        "version": 3
      },
      "file_extension": ".py",
      "mimetype": "text/x-python",
      "name": "python",
      "nbconvert_exporter": "python",
      "pygments_lexer": "ipython3",
      "version": "3.9.7"
    },
    "colab": {
      "name": "Bankruptcy_Model.ipynb",
      "provenance": [],
      "collapsed_sections": [
        "G_8Kl0ECyq1w",
        "yEeA-UHUyq19",
        "dxiHWO7B06Wq",
        "0cWalhcr6N_K"
      ]
    }
  },
  "nbformat": 4,
  "nbformat_minor": 0
}